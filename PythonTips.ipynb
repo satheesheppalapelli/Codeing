{
  "nbformat": 4,
  "nbformat_minor": 0,
  "metadata": {
    "colab": {
      "name": "PythonTips.ipynb",
      "provenance": [],
      "collapsed_sections": [],
      "include_colab_link": true
    },
    "kernelspec": {
      "name": "python3",
      "display_name": "Python 3"
    }
  },
  "cells": [
    {
      "cell_type": "markdown",
      "metadata": {
        "id": "view-in-github",
        "colab_type": "text"
      },
      "source": [
        "<a href=\"https://colab.research.google.com/github/satheesheppalapelli/Codeing/blob/master/PythonTips.ipynb\" target=\"_parent\"><img src=\"https://colab.research.google.com/assets/colab-badge.svg\" alt=\"Open In Colab\"/></a>"
      ]
    },
    {
      "cell_type": "code",
      "metadata": {
        "id": "YObQMpJ-bMtg",
        "colab_type": "code",
        "colab": {
          "base_uri": "https://localhost:8080/",
          "height": 34
        },
        "outputId": "04404665-43e2-4da1-dfdd-2db792825f87"
      },
      "source": [
        "# You can check for class\n",
        "# inheritance relationships \n",
        "# with the \"issubclass()\" built-in:\n",
        "\n",
        "class BaseClass: pass\n",
        "class SubClass(BaseClass): pass\n",
        "\n",
        "issubclass(SubClass, BaseClass)\n",
        "# True\n",
        "issubclass(SubClass, object)\n",
        "# True\n",
        "issubclass(BaseClass, SubClass)\n",
        "# False\n",
        "issubclass(object,SubClass)\n",
        "# False"
      ],
      "execution_count": 7,
      "outputs": [
        {
          "output_type": "execute_result",
          "data": {
            "text/plain": [
              "False"
            ]
          },
          "metadata": {
            "tags": []
          },
          "execution_count": 7
        }
      ]
    }
  ]
}